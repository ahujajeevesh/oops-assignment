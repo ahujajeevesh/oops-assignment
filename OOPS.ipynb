{
  "nbformat": 4,
  "nbformat_minor": 0,
  "metadata": {
    "colab": {
      "provenance": []
    },
    "kernelspec": {
      "name": "python3",
      "display_name": "Python 3"
    },
    "language_info": {
      "name": "python"
    }
  },
  "cells": [
    {
      "cell_type": "code",
      "execution_count": null,
      "metadata": {
        "id": "oKNpBF4abtKy"
      },
      "outputs": [],
      "source": []
    },
    {
      "cell_type": "markdown",
      "source": [
        "1. What is Object-Oriented Programming (OOP)?\n",
        "\n",
        "- Object-oriented programming (OOP) is a computer programming style that organizes code around objects, rather than functions and logic.\n",
        "-  Objects are units that contain data and functions, and are used to model systems.\n",
        "- Examples of OOP Manufacturing system simulation software, Mobile applications, and Programs for design.\n",
        "\n",
        "2. What is a class in OOP?\n",
        "\n",
        "- class is a template for creating objects. Classes define the properties and behaviors of objects, and allow programmers to create objects that behave in a consistent way.\n",
        "- Classes can be used to support inheritance, which is a mechanism for reusing code.\n",
        "3. What is an object in OOP?\n",
        "\n",
        "-  Object is a unit of code that represents a specific aspect of a program. Objects are the basic building blocks of OOP and are used to model systems.\n",
        "- Objects can represent physical entities, like people, cars, or products.\n",
        "\n",
        "4. What is the difference between abstraction and encapsulation?\n",
        "\n",
        "-  Encapsulation is a Python technique for combining data and functions into a\n",
        "single object.\n",
        "- Encapsulation refers to the\n",
        "broad concealment of an object's internal representation from areas outside of its specification.\n",
        "- Abstraction is a key idea in object-oriented programming (OOP) that allows you to describe complicated systems by hiding unneeded details and exposing just essential aspects.\n",
        "5. What are dunder methods in Python?\n",
        "\n",
        "- Dunder methods, also known as magic methods or special methods, in Python are special reserved methods that are surrounded by double underscores (i.e., __method__).\n",
        "-  These methods allow you to define how\n",
        "instances of your classes behave when they are used with built-in Python functions or operators.\n",
        "6.  Explain the concept of inheritance in OOP?\n",
        "- Inheritance is the mechanism of basing an object or class upon another object (prototype-based inheritance) or class (class-based inheritance), retaining similar implementation.\n",
        "-  This mechanism enables code reuse, facilitates the creation of a hierarchy of classes, and promotes modularity in software design.\n",
        "7. What is polymorphism in OOP?\n",
        "- Polymorphism refers to an object's capacity to assume several forms.\n",
        "- Polymorphism enables us to carry out a single activity in a variety of ways\n",
        "- From the Greek words poly (many) and morphism (forms), we get polymorphism.\n",
        "8. How is encapsulation achieved in Python?\n",
        "- Encapsulation in Python is achieved by using access modifiers to limit access to a class's variables and methods.\n",
        "- This is done by bundling the data and methods into a single unit, or class.\n",
        " - Use access modifiers like public, private, and protected.\n",
        " - Use single and double underscores to achieve the same effect as access modifiers.\n",
        " - Use property decorators.\n",
        "9. What is a constructor in Python?\n",
        "- A constructor in Python is a special method that automatically initializes an object when it's created.\n",
        "- The primary constructor is called __init__().\n",
        "The constructor is automatically called when an object of a class is instantiated .\n",
        "10. What are class and static methods in Python?\n",
        "- Class methods are methods that are bound to the class and not the instance of the class.\n",
        "- They can access or modify class state that applies across all instances of the class. Class methods are defined using the\n",
        "@classmethod decorator.\n",
        "- Static methods are methods that belong to the class and don't access or modify class or instance state. They are defined using the @staticmethod decorator.\n",
        "11. What is method overloading in Python?\n",
        "-  Method overloading is the practice of invoking the same method more than\n",
        "once with different parameters.\n",
        "-  Even if you overload the method, Python only takes into account the most recent definition. If you overload a method in Python, a\n",
        "TypeError will be raised.\n",
        "12. What is method overriding in OOP?\n",
        "-  Method overriding is the process of providing a different\n",
        "implementation for a method that is already defined in the superclass within a subclass.\n",
        "-  When a method is overridden, the subclass implements the method in its own way, which overrides the behaviour defined in the superclass. The subclass can then alter or expand the functionality of\n",
        "the inherited method.\n",
        "\n",
        "13. What is a property decorator in Python?\n",
        "- The Python property decorator makes attributes in a class act like read-only properties. Essentially, it lets you access methods as if they were attributes, without needing to write parentheses.\n",
        "- Decorators are typically applied to functions, and they play a crucial role in enhancing or modifying the behavior of functions.\n",
        "\n",
        "14. Why is polymorphism important in OOP ?\n",
        "\n",
        "- Polymorphism allows for easy extension of functionality by creating new classes that inherit from existing ones and override methods to provide specific behavior.\n",
        "- By using a single method name for different object types, developers can write code once and use it across different classes, minimizing code duplication.\n",
        "\n",
        "15. What is an abstract class in Python?\n",
        "- Abstract class is a class that cannot be instantiated on its own and is designed to be a blueprint for other classes.\n",
        "- Abstract classes allow us to define methods that must be implemented by subclasses, ensuring a consistent interface while still allowing the subclasses to provide specific implementations.\n",
        "16. What are the advantages of OOP?\n",
        "- OOP ensures modularity, reusability, and enhanced code structure by organising design around objects rather than functions.\n",
        "- OOP hides the internal implementation of objects, which controls access to data and promotes code reusability.\n",
        "- OOP allows developers to break down complex problems into self-contained units.\n",
        "17. What is the difference between a class variable and an instance variable?\n",
        "- Class variables are useful for storing data that is shared among all instances of a class, such as constants or default values.\n",
        "-  Instance variables are used to store data that is unique to each instance of a class, such as object properties.\n",
        "- Class variables also known as static variables are declared with the static keyword in a class, but outside a method, constructor or a block. Instance variables are created when an object is created with the use of the keyword 'new' and destroyed when the object is destroyed.\n",
        "18. What is multiple inheritance in Python?\n",
        "- One child class may inherit from several parent classes when there is multiple inheritance.\n",
        "- Multiple inheritance allows classes to inherit and combine the behavior of multiple parent classes, providing flexibility in designing complex class hierarchies.\n",
        "19.  Explain the purpose of ‘’__str__’ and ‘__repr__’ ‘ methods in Python?\n",
        "- \"__str__\"=  This method is called when the str() function is used on an instance of the class. It should return a string representation of the object\n",
        "- '__repr__'= This method is called when the repr() function is used on an instance of the class. It should return an unambiguous string representation of the object, which can be used to recreate the object.\n",
        "20. What is the significance of the ‘super()’ function in Python?\n",
        "- The super() function is used to refer to the parent class or superclass. It allows you to call methods defined in the superclass from the subclass.\n",
        "- The super() is a built-in function that allows access to methods and properties of a parent or superclass from a child or subclass.\n",
        "21. What is the significance of the __del__ method in Python?\n",
        "- The __del__ method exists to release any resources held by an object when that object is deleted.\n",
        "- The __del__ method in Python is a powerful tool for managing resource cleanup when objects are destroyed.\n",
        "\n",
        "22. What is the difference between @staticmethod and @classmethod in Python?\n",
        "- @classmethod\n",
        " - Takes the class as the first parameter, cls\n",
        " - Can access and modify the class state .\n",
        " - Can be used to create objects of the class in a different way.\n",
        "- @staticmethod\n",
        " - Does not take any specific parameters.\n",
        " - Cannot access or modify the class state .\n",
        " - Can be used to define utility functions within the class's scope.\n",
        "23. How does polymorphism work in Python with inheritance?\n",
        " - Polymorphism, a child class method is allowed to have the same name as the class methods in the parent class. In inheritance, the methods belonging to the parent class are passed down to the child class.\n",
        " - The core mechanism for achieving polymorphism in inheritance is by overriding methods in the child class. This means defining a method with the same name as a method in the parent class, but with a different implementation tailored to the child class.\n",
        "24.  What is method chaining in Python OOP?\n",
        " -  Method chaining in Python an efficient approach that makes it possible to invoke multiple methods within an object using a single line of code.\n",
        " - It makes code shorter, more easily to read, and easy to understand, in addition to giving a quite natural way of coding successive operations on data or objects.\n",
        "25. What is the purpose of the __call__ method in Python?\n",
        " - The __call__ method in Python allows programmers to create callable objects, which can be called like functions.\n",
        " - Allows programmers to write classes where instances behave like functions.The main idea of __call__ method is to write a class and invoke it like a function. You can refer to it as callable object."
      ],
      "metadata": {
        "id": "N_ycjTyWb6f8"
      }
    },
    {
      "cell_type": "code",
      "source": [
        "# Practical Questions\n",
        "#1. Create a parent class Animal with a method speak() that prints a generic message. Create a child class Dog\n",
        "#that overrides the speak() method to print \"Bark!\"\n",
        "class Animal():\n",
        "  def speak(self):\n",
        "    print(\"Animal\")\n",
        "class Dog(Animal):\n",
        "  def speak(self):\n",
        "    print(\"Bark!\")\n",
        "\n",
        "dog=Dog()\n",
        "dog.speak()\n",
        "animal=Animal()\n",
        "animal.speak()"
      ],
      "metadata": {
        "colab": {
          "base_uri": "https://localhost:8080/"
        },
        "id": "5R1lxL0dtFaq",
        "outputId": "c6f2f455-caf2-4b58-a4a3-e539becb2c17"
      },
      "execution_count": null,
      "outputs": [
        {
          "output_type": "stream",
          "name": "stdout",
          "text": [
            "Bark!\n",
            "Animal\n"
          ]
        }
      ]
    },
    {
      "cell_type": "code",
      "source": [
        "#2.Write a program to create an abstract class Shape with a method area(). Derive classes Circle and Rectangle\n",
        "#from it and implement the area() method in both\n",
        "class Shape():\n",
        "  def area(self):\n",
        "    pass\n",
        "class Circle(Shape):\n",
        "  def __init__(self,radius):\n",
        "     self.radius=radius\n",
        "  def area(self):\n",
        "     return 3.14 * radius * radius\n",
        "class Rectangle(Shape):\n",
        "  def __init__(self,length,width):\n",
        "    self.length=length\n",
        "    self.width=width\n",
        "  def area(self,length,width):\n",
        "    return length*width\n"
      ],
      "metadata": {
        "id": "Swbj0OM-ug9H"
      },
      "execution_count": null,
      "outputs": []
    },
    {
      "cell_type": "code",
      "source": [
        "#3.Implement a multi-level inheritance scenario where a class Vehicle has an attribute type. Derive a class Car\n",
        "# and further derive a class ElectricCar that adds a battery attribute\n",
        "class Vehicle():\n",
        "  def __init__(self,type):\n",
        "    self.type=type\n",
        "class Car(Vehicle):\n",
        "  def __init__(self,type,color):\n",
        "     self.color=color\n",
        "     super().__init__(type)\n",
        "class ElectricCar(Car):\n",
        "   def __init__(self,type,color,battery):\n",
        "     self.battery=battery\n",
        "     super().__init__(type,color)\n"
      ],
      "metadata": {
        "id": "D9apnDJEwvYO"
      },
      "execution_count": null,
      "outputs": []
    },
    {
      "cell_type": "code",
      "source": [
        "obu=ElectricCar(\"oddy\",\"red\",\"5000\")\n",
        "obu.color"
      ],
      "metadata": {
        "id": "Xa4W2YS_05Vs",
        "colab": {
          "base_uri": "https://localhost:8080/",
          "height": 35
        },
        "outputId": "ccf8f16f-f8c5-4604-d366-d01ec54979dc"
      },
      "execution_count": null,
      "outputs": [
        {
          "output_type": "execute_result",
          "data": {
            "text/plain": [
              "'red'"
            ],
            "application/vnd.google.colaboratory.intrinsic+json": {
              "type": "string"
            }
          },
          "metadata": {},
          "execution_count": 17
        }
      ]
    },
    {
      "cell_type": "code",
      "source": [
        "#4. Implement a multi-level inheritance scenario where a class Vehicle has an attribute type. Derive a class Car\n",
        "# and further derive a class ElectricCar that adds a battery attribute\n",
        "class Vehicle():\n",
        "  def __init__(self,type):\n",
        "    self.type=type\n",
        "class Car(Vehicle):\n",
        "  def __init__(self,type,color):\n",
        "     self.color=color\n",
        "     super().__init__(type)\n",
        "class ElectricCar(Car):\n",
        "   def __init__(self,type,color,battery):\n",
        "     self.battery=battery\n",
        "     super().__init__(type,color)\n",
        "obu=ElectricCar(\"oddy\",\"red\",\"5000\")\n",
        "obu.color\n"
      ],
      "metadata": {
        "colab": {
          "base_uri": "https://localhost:8080/",
          "height": 35
        },
        "id": "t4WaAbVCmp0n",
        "outputId": "5ddda517-7d40-40fd-8989-98369f1bf2f2"
      },
      "execution_count": null,
      "outputs": [
        {
          "output_type": "execute_result",
          "data": {
            "text/plain": [
              "'red'"
            ],
            "application/vnd.google.colaboratory.intrinsic+json": {
              "type": "string"
            }
          },
          "metadata": {},
          "execution_count": 18
        }
      ]
    },
    {
      "cell_type": "code",
      "source": [
        "#5.Write a program to demonstrate encapsulation by creating a class BankAccount with private attributes\n",
        "# balance and methods to deposit, withdraw, and check balance\n",
        "\n",
        "class BankAccount():\n",
        "  def __init__(self,balance):\n",
        "    self.__balance=balance\n",
        "  def deposit(self,amount):\n",
        "      amount = float(input(\"Enter amount to be deposited: \"))\n",
        "      self.__balance+=amount\n",
        "      print(\"\\n Amount Deposited:\", amount)\n",
        "  def withdraw(self,amount):\n",
        "    amount = float(input(\"Enter amount to be withdrawn: \"))\n",
        "    if self.balance>=amount:\n",
        "       self.balance-=amount\n",
        "       print(\"\\n You Withdrew:\", amount)\n",
        "    else:\n",
        "       print(\"\\n Insufficient balance  \")\n",
        "  def check_balance(self):\n",
        "      return self.__balance\n"
      ],
      "metadata": {
        "id": "e8bEcHKlv_m9"
      },
      "execution_count": null,
      "outputs": []
    },
    {
      "cell_type": "code",
      "source": [
        "s=BankAccount(1000)\n",
        "s.deposit(100)\n",
        "s.check_balance()\n"
      ],
      "metadata": {
        "colab": {
          "base_uri": "https://localhost:8080/"
        },
        "id": "j9rozsgXx3z2",
        "outputId": "39687966-8238-4697-a0ed-ce680db86196"
      },
      "execution_count": null,
      "outputs": [
        {
          "output_type": "stream",
          "name": "stdout",
          "text": [
            "Enter amount to be deposited: 90\n",
            "\n",
            " Amount Deposited: 90.0\n"
          ]
        },
        {
          "output_type": "execute_result",
          "data": {
            "text/plain": [
              "1090.0"
            ]
          },
          "metadata": {},
          "execution_count": 41
        }
      ]
    },
    {
      "cell_type": "code",
      "source": [
        "#6. Demonstrate runtime polymorphism using a method play() in a base class Instrument. Derive classes Guitar\n",
        "# and Piano that implement their own version of play()\n",
        "\n",
        "class Instrument():\n",
        "  def play(self):\n",
        "    pass\n",
        "class Guitar(Instrument):\n",
        "  def play(self):\n",
        "    print(\"guitar\")\n",
        "class Piano(Instrument):\n",
        "  def play(self):\n",
        "    print(\"piano\")\n",
        "\n",
        "Guitar().play()\n",
        "Piano().play()"
      ],
      "metadata": {
        "colab": {
          "base_uri": "https://localhost:8080/"
        },
        "id": "baFP3u7GyR6c",
        "outputId": "2759aa02-105e-4ca6-d23e-b21fc2e5d4dc"
      },
      "execution_count": null,
      "outputs": [
        {
          "output_type": "stream",
          "name": "stdout",
          "text": [
            "guitar\n",
            "piano\n"
          ]
        }
      ]
    },
    {
      "cell_type": "code",
      "source": [
        "#7.Create a class MathOperations with a class method add_numbers() to add two numbers and a static\n",
        "# method subtract_numbers() to subtract two numbers\n",
        "\n",
        "class MathOperations():\n",
        "  def __init__(self,a,b):\n",
        "     self.a=a\n",
        "     self.b=b\n",
        "  def add_numbers(self):\n",
        "      return self.a+self.b\n",
        "  @staticmethod\n",
        "  def subtract_numbers(a,b):\n",
        "      return a-b\n",
        "\n"
      ],
      "metadata": {
        "id": "3FJHltPH1uXo"
      },
      "execution_count": null,
      "outputs": []
    },
    {
      "cell_type": "code",
      "source": [
        "math=MathOperations(10,20)\n",
        "print(math.add_numbers())\n",
        "mahy=MathOperations.subtract_numbers(5,3)\n",
        "print(mahy)"
      ],
      "metadata": {
        "colab": {
          "base_uri": "https://localhost:8080/"
        },
        "id": "QDE9LCEumSbM",
        "outputId": "ed589637-a3f2-4926-d28f-5945fedb5077"
      },
      "execution_count": null,
      "outputs": [
        {
          "output_type": "stream",
          "name": "stdout",
          "text": [
            "30\n",
            "2\n"
          ]
        }
      ]
    },
    {
      "cell_type": "code",
      "source": [
        "#8.Implement a class Person with a class method to count the total number of persons created.\n",
        "class Person():\n",
        "   totalnumber=0\n",
        "   def __init__(self,name):\n",
        "     self.name=name\n",
        "     Person.totalnumber+=1\n",
        "   @classmethod\n",
        "   def totalnuber(cls):\n",
        "     return cls.totalnumber\n"
      ],
      "metadata": {
        "id": "AlPVN5r5piAg"
      },
      "execution_count": null,
      "outputs": []
    },
    {
      "cell_type": "code",
      "source": [
        "p1=Person(\"mahy\")\n",
        "p2=Person(\"mahy2\")\n",
        "Person.totalnuber()"
      ],
      "metadata": {
        "colab": {
          "base_uri": "https://localhost:8080/"
        },
        "id": "TePQkX661szy",
        "outputId": "93164b2d-825d-4195-fa09-2814598ad976"
      },
      "execution_count": null,
      "outputs": [
        {
          "output_type": "execute_result",
          "data": {
            "text/plain": [
              "4"
            ]
          },
          "metadata": {},
          "execution_count": 57
        }
      ]
    },
    {
      "cell_type": "code",
      "source": [
        "#9. Write a class Fraction with attributes numerator and denominator. Override the str method to display the\n",
        "# fraction as \"numerator/denominator\"\n",
        "class Fraction():\n",
        "  def __init__(self,numerator,denominator):\n",
        "    self.numerator=numerator\n",
        "    self.denominator=denominator\n",
        "  def __str__(self):\n",
        "    return f\"{self.numerator}/{self.denominator}\"\n",
        "\n",
        "f=Fraction(1,2)\n",
        "print(f)"
      ],
      "metadata": {
        "colab": {
          "base_uri": "https://localhost:8080/"
        },
        "id": "4CaeanQS3gI5",
        "outputId": "995d7681-bc09-4cdb-8348-ab3a57331c4e"
      },
      "execution_count": null,
      "outputs": [
        {
          "output_type": "stream",
          "name": "stdout",
          "text": [
            "1/2\n"
          ]
        }
      ]
    },
    {
      "cell_type": "code",
      "source": [
        "#10. Demonstrate operator overloading by creating a class Vector and overriding the add method to add two\n",
        "# vectors\n",
        "class Vector():\n",
        "  def __init__(self,x,y):\n",
        "    self.x=x\n",
        "    self.y=y\n",
        "  def __add__(self,other):\n",
        "    return Vector(self.x+other.x,self.y+other.y)\n",
        "a=Vector(1,2)\n",
        "b=Vector(3,4)\n",
        "c=a+b\n",
        "print(c.x,c.y)\n"
      ],
      "metadata": {
        "colab": {
          "base_uri": "https://localhost:8080/"
        },
        "id": "X3dNwVNg4coi",
        "outputId": "6b6ab20e-00b0-4cc0-f27d-39c66c5fffcc"
      },
      "execution_count": null,
      "outputs": [
        {
          "output_type": "stream",
          "name": "stdout",
          "text": [
            "4 6\n"
          ]
        }
      ]
    },
    {
      "cell_type": "code",
      "source": [
        "#11.Create a class Person with attributes name and age. Add a method greet() that prints \"Hello, my name is\n",
        "# {name} and I am {age} years old.\"\n",
        "\n",
        "class Person():\n",
        "   def __init__(self,name,age):\n",
        "      self.name=name\n",
        "      self.age=age\n",
        "   def greet(self):\n",
        "     print(f\"Hello, my name is {self.name} and I am {self.age} years old.\")\n",
        "\n",
        "p=Person(\"mahy\",20)\n",
        "p.greet()\n",
        "p1=Person(\"jeevesh\",22)\n",
        "p1.greet()"
      ],
      "metadata": {
        "colab": {
          "base_uri": "https://localhost:8080/"
        },
        "id": "2oPJiTVr6Mso",
        "outputId": "26cdea5e-3a1b-4e7b-bc7f-146b7ce2fee3"
      },
      "execution_count": null,
      "outputs": [
        {
          "output_type": "stream",
          "name": "stdout",
          "text": [
            "Hello, my name is mahy and I am 20 years old.\n",
            "Hello, my name is jeevesh and I am 22 years old.\n"
          ]
        }
      ]
    },
    {
      "cell_type": "code",
      "source": [
        "#12.Implement a class Student with attributes name and grades. Create a method average_grade() to compute\n",
        "# the average of the grades.\n",
        "class Student():\n",
        "   def __init__(self,name,grades):\n",
        "     self.name=name\n",
        "     self.grades=grades\n",
        "   def  average_grade(self):\n",
        "     return sum(self.grades)/len(self.grades)\n",
        "\n",
        "s=Student(\"mahy\",[10,20,30])\n",
        "s.average_grade()\n"
      ],
      "metadata": {
        "colab": {
          "base_uri": "https://localhost:8080/"
        },
        "id": "l_MweWSo66XD",
        "outputId": "f6b88ac0-2bd4-406d-fae0-3b79a6fb74c5"
      },
      "execution_count": 2,
      "outputs": [
        {
          "output_type": "execute_result",
          "data": {
            "text/plain": [
              "20.0"
            ]
          },
          "metadata": {},
          "execution_count": 2
        }
      ]
    },
    {
      "cell_type": "code",
      "source": [
        "#13. Create a class Rectangle with methods set_dimensions() to set the dimensions and area() to calculate the\n",
        "# area\n",
        "class Rectangle():\n",
        "    def set_dimensions(self,length,width):\n",
        "      self.length=length\n",
        "      self.width=width\n",
        "    def area(self):\n",
        "      return self.length*self.width\n",
        "r=Rectangle()\n",
        "r.set_dimensions(10,20)\n",
        "r.area()\n",
        "\n",
        "\n"
      ],
      "metadata": {
        "id": "Dtt_09rh9Bxv",
        "colab": {
          "base_uri": "https://localhost:8080/"
        },
        "outputId": "4360de74-dd3e-4369-e2d6-725de6c9dd10"
      },
      "execution_count": 5,
      "outputs": [
        {
          "output_type": "execute_result",
          "data": {
            "text/plain": [
              "200"
            ]
          },
          "metadata": {},
          "execution_count": 5
        }
      ]
    },
    {
      "cell_type": "code",
      "source": [
        "#14. Create a class Employee with a method calculate_salary() that computes the salary based on hours worked\n",
        " # and hourly rate. Create a derived class Manager that adds a bonus to the salary\n",
        "\n",
        "class Employee():\n",
        "     def calculate_salary(self,hours_worked,hourly_rate):\n",
        "         return hours_worked*hourly_rate\n",
        "class Manager(Employee):\n",
        "  def calculate_salary(self,hours_worked,hourly_rate,bonus):\n",
        "    print(\"my salary\",r)\n",
        "    return hours_worked*hourly_rate+bonus\n",
        "\n",
        "\n",
        "r=Manager.calculate_salary(67,78,70,67)\n",
        "print(r)"
      ],
      "metadata": {
        "colab": {
          "base_uri": "https://localhost:8080/"
        },
        "id": "c2VH1a6SyTeq",
        "outputId": "91e5e021-51ac-4fcd-b1cb-51b6e7348269"
      },
      "execution_count": 13,
      "outputs": [
        {
          "output_type": "stream",
          "name": "stdout",
          "text": [
            "my salary 5527\n",
            "5527\n"
          ]
        }
      ]
    },
    {
      "cell_type": "code",
      "source": [
        "#15 Create a class Product with attributes name, price, and quantity. Implement a method total_price() that\n",
        "# calculates the total price of the product\n",
        "class Product():\n",
        "  def __init__(self,name,price,quantity):\n",
        "    self.name=name\n",
        "    self.price=price\n",
        "    self.quantity=quantity\n",
        "  def total_price(self):\n",
        "    return self.price*self.quantity\n",
        "p=Product(\"Rin\",10,20)\n",
        "print(\"my product is\",p.name,\"price is\",p.total_price())\n",
        "p.total_price()"
      ],
      "metadata": {
        "colab": {
          "base_uri": "https://localhost:8080/"
        },
        "id": "r1DSX7mOzMCs",
        "outputId": "397cb197-1945-4294-d56d-14cd8caca0b2"
      },
      "execution_count": 20,
      "outputs": [
        {
          "output_type": "stream",
          "name": "stdout",
          "text": [
            "my product is Rin price is 200\n"
          ]
        },
        {
          "output_type": "execute_result",
          "data": {
            "text/plain": [
              "200"
            ]
          },
          "metadata": {},
          "execution_count": 20
        }
      ]
    },
    {
      "cell_type": "code",
      "source": [
        "#16. Create a class Animal with an abstract method sound(). Create two derived classes Cow and Sheep that\n",
        "# implement the sound() method.\n",
        "from abc import ABC,abstractmethod\n",
        "class Animal(ABC):\n",
        "  @abstractmethod\n",
        "  def sound(self):\n",
        "    pass\n",
        "class Cow(Animal):\n",
        "  def sound(self):\n",
        "    print(\"moo\")\n",
        "class Sheep(Animal):\n",
        "  def sound(self):\n",
        "    print(\"baa\")\n",
        "c=Cow()\n",
        "c.sound()\n",
        "s=Sheep()\n",
        "s.sound()"
      ],
      "metadata": {
        "colab": {
          "base_uri": "https://localhost:8080/"
        },
        "id": "S5GRv7E50wW0",
        "outputId": "cb4bf9e7-f9ac-42ad-8950-3e0cfbe0d2eb"
      },
      "execution_count": 24,
      "outputs": [
        {
          "output_type": "stream",
          "name": "stdout",
          "text": [
            "moo\n",
            "baa\n"
          ]
        }
      ]
    },
    {
      "cell_type": "code",
      "source": [
        "\n",
        "#17. Create a class Book with attributes title, author, and year_published. Add a method get_book_info() that\n",
        "# returns a formatted string with the book's details.\n",
        "\n",
        "class Book():\n",
        "  def __init__(self,title,author,year_published):\n",
        "    self.title=title\n",
        "    self.author=author\n",
        "    self.year_published=year_published\n",
        "\n",
        "  def get_book_info(self):\n",
        "     return f\" Title: {self.title} \\n Author: {self.author} \\n Year Published: {self.year_published}\"\n",
        "p=Book(\"love\",\"jeevesh\",\"2024\")\n",
        "print(p.get_book_info())"
      ],
      "metadata": {
        "colab": {
          "base_uri": "https://localhost:8080/"
        },
        "id": "ku09wLRv2M56",
        "outputId": "a94dd078-6d2a-4b4c-ffd2-53dbcb9bb78d"
      },
      "execution_count": 33,
      "outputs": [
        {
          "output_type": "stream",
          "name": "stdout",
          "text": [
            " Title: love \n",
            " Author: jeevesh \n",
            " Year Published: 2024\n"
          ]
        }
      ]
    },
    {
      "cell_type": "code",
      "source": [
        "#18. Create a class House with attributes address and price. Create a derived class Mansion that adds an\n",
        "# attribute number_of_rooms\n",
        "class House():\n",
        "  def __init__(self,address,price):\n",
        "    self.address=address\n",
        "    self.price=price\n",
        "  def get_house_info(self):\n",
        "    return f\"Address: {self.address}  \\n Price: {self.price}\"\n",
        "class Mansion(House):\n",
        "  def __init__(self,address,price,number_of_rooms):\n",
        "    super().__init__(address,price)\n",
        "    self.number_of_rooms=number_of_rooms\n",
        "  def get_house_info(self):\n",
        "    return f\"Address: {self.address}  \\n Price: {self.price} \\n Number of Rooms: {self.number_of_rooms}\"\n",
        "m=Mansion(\"wall street\",755000,10)\n",
        "m.get_house_info()"
      ],
      "metadata": {
        "colab": {
          "base_uri": "https://localhost:8080/",
          "height": 35
        },
        "id": "LaU0yVgG4A7i",
        "outputId": "f81eaa84-7f3c-4a2d-8168-f9f5ca79f546"
      },
      "execution_count": 40,
      "outputs": [
        {
          "output_type": "execute_result",
          "data": {
            "text/plain": [
              "'Address: wall street  \\n Price: 755000 \\n Number of Rooms: 10'"
            ],
            "application/vnd.google.colaboratory.intrinsic+json": {
              "type": "string"
            }
          },
          "metadata": {},
          "execution_count": 40
        }
      ]
    },
    {
      "cell_type": "code",
      "source": [],
      "metadata": {
        "id": "u5q4MaO55GHZ"
      },
      "execution_count": null,
      "outputs": []
    }
  ]
}